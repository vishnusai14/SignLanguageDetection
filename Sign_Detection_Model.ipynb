{
 "cells": [
  {
   "cell_type": "code",
   "execution_count": null,
   "id": "6b09962e",
   "metadata": {},
   "outputs": [],
   "source": [
    "# All The Imports\n",
    "\n",
    "######Note change All Keras import To tensorflow.keras######\n",
    "\n",
    "import tensorflow as tf\n",
    "from tensorflow import keras\n",
    "from keras.models import Sequential \n",
    "from keras.layers import Activation, Dense, Flatten, BatchNormalization, Conv2D, MaxPool2D, Dropout\n",
    "from keras.optimizers import Adam, SGD\n",
    "from keras.metrics import categorical_crossentropy\n",
    "from keras.preprocessing.image import ImageDataGenerator\n",
    "import warnings\n",
    "import numpy as np\n",
    "import cv2\n",
    "from keras.callbacks import ReduceLROnPlateau\n",
    "from keras.callbacks import ModelCheckpoint, EarlyStopping\n",
    "from matplotlib import pyplot as plt\n",
    "from keras.models import load_model\n",
    "from keras.preprocessing import image"
   ]
  },
  {
   "cell_type": "code",
   "execution_count": null,
   "id": "37b04d92",
   "metadata": {},
   "outputs": [],
   "source": [
    "# Important Steps\n",
    "# Creating The Trained Model\n",
    "#Here we are Creating A Sequential Model\n",
    "#Don't change The input_shape()\n",
    "#Try Changing The kernel size to check if accuracy is being changed\n",
    "\n",
    "model = Sequential()\n",
    "\n",
    "#Adding A List Of CNN Model To Make The Model To Learn From The Data Set\n",
    "#filter = set the number of training process\n",
    "#kernel_size = determines the kernel dimensions\n",
    "#activation = 'relu' is the name of activation model which increases the accuracy \n",
    "model.add(Conv2D(filters=32, kernel_size=(3, 3), activation='relu', input_shape=(64,64,3)))\n",
    "#maxpool2d pool_size(2,2) - increases the speed by adding the step of 2 \n",
    "model.add(MaxPool2D(pool_size=(2, 2), strides=2))\n",
    "\n",
    "model.add(Conv2D(filters=64, kernel_size=(3, 3), activation='relu', padding = 'same'))\n",
    "model.add(MaxPool2D(pool_size=(2, 2), strides=2))\n",
    "\n",
    "model.add(Conv2D(filters=128, kernel_size=(3, 3), activation='relu', padding = 'valid'))\n",
    "model.add(MaxPool2D(pool_size=(2, 2), strides=2))\n",
    "\n",
    "model.add(Flatten())"
   ]
  },
  {
   "cell_type": "code",
   "execution_count": null,
   "id": "7e3988cb",
   "metadata": {},
   "outputs": [],
   "source": [
    "#Don't Change Any Value here\n",
    "model.add(Dense(256, activation = 'relu'))\n",
    "model.add(Dropout(0.5))\n",
    "model.add(Dense(33, activation = 'softmax'))"
   ]
  },
  {
   "cell_type": "code",
   "execution_count": null,
   "id": "9ccc7fb1",
   "metadata": {},
   "outputs": [],
   "source": [
    "#Here We are Compiling The Model \n",
    "#Change The Learn Rate and See The Accuracy"
   ]
  },
  {
   "cell_type": "code",
   "execution_count": null,
   "id": "02575351",
   "metadata": {},
   "outputs": [],
   "source": [
    "\n",
    "#Compiling The CNN\n",
    "model.compile(optimizer = SGD(learning_rate = 0.01),loss = 'categorical_crossentropy',metrics = ['accuracy'])"
   ]
  },
  {
   "cell_type": "code",
   "execution_count": null,
   "id": "f48d9ad6",
   "metadata": {},
   "outputs": [],
   "source": [
    "#Creating The Train Process\n",
    "train_datagen = ImageDataGenerator(\n",
    "        rescale=1./255,\n",
    "        shear_range=0.2,\n",
    "        zoom_range=0.2,\n",
    "        horizontal_flip=True)"
   ]
  },
  {
   "cell_type": "code",
   "execution_count": null,
   "id": "fa24ded8",
   "metadata": {},
   "outputs": [],
   "source": [
    "#Creating The Train Set\n",
    "#Try Changing The Batch value only\n",
    "#Change The Path To Training Set\n",
    "training_set = train_datagen.flow_from_directory(\n",
    "        '/content/drive/MyDrive/final data/train image',\n",
    "        target_size=(64, 64),\n",
    "        batch_size=32,\n",
    "        class_mode='categorical')"
   ]
  },
  {
   "cell_type": "code",
   "execution_count": null,
   "id": "80125a75",
   "metadata": {},
   "outputs": [],
   "source": [
    "#Same For Test data\n",
    "#Change The Path To Testing Set\n",
    "test_datagen = ImageDataGenerator(rescale=1./255)\n",
    "test_set = test_datagen.flow_from_directory(\n",
    "        '/content/drive/MyDrive/final data/test image',\n",
    "        target_size=(64, 64),\n",
    "        batch_size=32,\n",
    "        class_mode='categorical')"
   ]
  },
  {
   "cell_type": "code",
   "execution_count": null,
   "id": "d24f92a6",
   "metadata": {},
   "outputs": [],
   "source": [
    "#Try Increase The epochs \n",
    "model_fit = model.fit(training_set,epochs=25,validation_data = test_set)"
   ]
  },
  {
   "cell_type": "code",
   "execution_count": null,
   "id": "3f21e6a2",
   "metadata": {},
   "outputs": [],
   "source": [
    "# For getting next batch of testing imgs...\n",
    "imgs, labels = next(test_set) \n",
    "scores = model.evaluate(imgs, labels, verbose=0)\n",
    "print(f'{model.metrics_names[0]} of {scores[0]}; {model.metrics_names[1]} of {scores[1]*100}%')\n",
    "\n",
    "\n",
    "#Once the model is fitted we save the model using model.save()  function.\n",
    "\n",
    "\n",
    "model.save('modelfit.h5')"
   ]
  }
 ],
 "metadata": {
  "kernelspec": {
   "display_name": "Python 3",
   "language": "python",
   "name": "python3"
  },
  "language_info": {
   "codemirror_mode": {
    "name": "ipython",
    "version": 3
   },
   "file_extension": ".py",
   "mimetype": "text/x-python",
   "name": "python",
   "nbconvert_exporter": "python",
   "pygments_lexer": "ipython3",
   "version": "3.7.0"
  }
 },
 "nbformat": 4,
 "nbformat_minor": 5
}
